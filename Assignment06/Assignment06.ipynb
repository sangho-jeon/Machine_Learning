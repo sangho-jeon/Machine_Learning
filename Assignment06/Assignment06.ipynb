{
 "cells": [
  {
   "cell_type": "markdown",
   "metadata": {},
   "source": [
    "## Logistic regression for a binary classification with a non-linear classification boundary\n",
    "\n",
    "\n",
    "* ## Code Computation Below"
   ]
  },
  {
   "cell_type": "code",
   "execution_count": 27,
   "metadata": {},
   "outputs": [],
   "source": [
    "import numpy as np\n",
    "import matplotlib.pyplot as plt\n",
    "\n",
    "data    = np.genfromtxt(\"data-nonlinear.txt\", delimiter=',')\n",
    "\n",
    "pointX  = data[:, 0]\n",
    "pointY  = data[:, 1]\n",
    "label   = data[:, 2]\n",
    "\n",
    "pointX0 = pointX[label == 0]\n",
    "pointY0 = pointY[label == 0]\n",
    "\n",
    "pointX1 = pointX[label == 1]\n",
    "pointY1 = pointY[label == 1]\n",
    "\n",
    "x0 = np.array(pointX0)\n",
    "x1 = np.array(pointX1)\n",
    "y0 = np.array(pointY0)\n",
    "y1 = np.array(pointY1)\n",
    "\n"
   ]
  },
  {
   "cell_type": "code",
   "execution_count": 25,
   "metadata": {},
   "outputs": [],
   "source": [
    "def g(theta0, theta1, theta2, theta3, x, y):\n",
    "    tmp = theta0 - theta1*x - theta2*y + theta3*(x*x + y*y)\n",
    "    return tmp\n",
    "\n",
    "def sigma_z(g):\n",
    "    tmp = 1/(1 + np.exp(-1*g))\n",
    "    return tmp\n",
    "\n",
    "def objective(z, i):\n",
    "    if i == 1:\n",
    "        tmp = np.log(z)\n",
    "        tmp = -1 * tmp\n",
    "        return np.sum(tmp)\n",
    "    elif i == 0:\n",
    "        tmp = np.log(1 - z)\n",
    "        tmp = -1*tmp\n",
    "        return np.sum(tmp)\n",
    "    \n",
    "def gradient0(z, i, step):\n",
    "    tmp = z - i\n",
    "    result = step*(np.sum(tmp))\n",
    "    return result\n",
    "            \n",
    "        \n",
    "def gradient1_2(z, i, step, x):\n",
    "    tmp = (z - i) * (-1*x)\n",
    "    result = step*(np.sum(tmp))\n",
    "    return result\n",
    "            \n",
    "def gradient3(z, i, step, x, y):\n",
    "    tmp = (z - i)*(x*x + y*y)\n",
    "    result = step*(np.sum(tmp))\n",
    "    return result\n",
    "\n",
    "def score(x, y, i, theta0, theta1, theta2, theta3):\n",
    "    count = 0\n",
    "    tmp = theta0 - theta1*x - theta2*y + theta3*(x*x + y*y)\n",
    "    for t in tmp:\n",
    "        if(t > 0 and i == 1):\n",
    "            count = count+1\n",
    "        elif(t <= 0 and i == 0):\n",
    "            count = count+1\n",
    "    return count\n",
    "\n",
    "\n",
    "x = np.arange(-1.5, 1.5, 0.1)\n",
    "y = np.arange(-1.5, 1.5, 0.1)\n",
    "\n",
    "\n",
    "z = []\n",
    "for i in y:\n",
    "    line = []\n",
    "    for j in x:\n",
    "        line.append(theta0 - theta1*j - theta2*i + theta3*(j*j + i*i))\n",
    "    z.append(line)\n"
   ]
  },
  {
   "cell_type": "code",
   "execution_count": 13,
   "metadata": {},
   "outputs": [],
   "source": [
    "theta0 = 0.0\n",
    "theta1 = 0.0\n",
    "theta2 = 0.0\n",
    "theta3 = 0.0\n",
    "\n",
    "\n",
    "m0 = x0.size\n",
    "m1 = x1.size\n",
    "m = m0 + m1\n",
    "\n",
    "step = 0.005\n",
    "\n",
    "enough = False\n",
    "i0 = 0\n",
    "i1 = 1\n",
    "\n",
    "theta0_iter = []\n",
    "theta1_iter = []\n",
    "theta2_iter = []\n",
    "theta3_iter = []\n",
    "count_iter = []\n",
    "loss_count = []\n",
    "count = 0\n",
    "loss_counted = 0 \n",
    "loss_iter = []\n",
    "score_list = []\n",
    "#print(sigma_z(theta0, theta1, theta2, x_label0, y_label0))\n",
    "\n",
    "while(enough == False):\n",
    "    g0 = g(theta0, theta1, theta2, theta3, x0, y0)\n",
    "    g1 = g(theta0, theta1, theta2, theta3, x1, y1)\n",
    "    \n",
    "    sigma0 = sigma_z(g0)\n",
    "    sigma1 = sigma_z(g1)\n",
    "    \n",
    "    tmp0 = objective(sigma0, 0)\n",
    "    tmp1 = objective(sigma1, 1)\n",
    "    \n",
    "    loss= (tmp0+tmp1)/(m0+m1)\n",
    "    loss_counted = loss_counted + 1\n",
    "    loss_count.append(loss_counted)\n",
    "    loss_iter.append(loss)\n",
    "    \n",
    "    #loss_iter[loss_counted-2]\n",
    "    \n",
    "    if(loss  < 0.436 ):\n",
    "        enough = True\n",
    "    \n",
    "    else:\n",
    "        # theta 0\n",
    "        tmp0 = gradient0(sigma0, 0, step)\n",
    "        tmp1 = gradient0(sigma1, 1, step)\n",
    "        # theta 1\n",
    "        tmp2 = gradient1_2(sigma0, i0, step,  x0)\n",
    "        tmp3 = gradient1_2(sigma1, i1, step,  x1)\n",
    "        # theta 2\n",
    "        tmp4 = gradient1_2(sigma0, i0, step,  y0)\n",
    "        tmp5 = gradient1_2(sigma1, i1, step,  y1)\n",
    "        #theta 3\n",
    "        tmp6 = gradient3(sigma0, 0, step, x0, y0)\n",
    "        tmp7 = gradient3(sigma1, 1, step, x1, y1)\n",
    "        \n",
    "        theta0 = theta0 - (tmp0+tmp1)/m\n",
    "        theta1 = theta1 - (tmp2+tmp3)/m\n",
    "        theta2 = theta2 - (tmp4+tmp5)/m\n",
    "        theta3 = theta3 - (tmp6+tmp7)/m\n",
    "        \n",
    "        score0 = score(x0, y0, 0, theta0, theta1, theta2, theta3)\n",
    "        score1 = score(x1, y1, 1, theta0, theta1, theta2, theta3)\n",
    "        \n",
    "        score_list.append((score0+score1)/m)\n",
    "        \n",
    "        theta0_iter.append(theta0)\n",
    "        theta1_iter.append(theta1)\n",
    "        theta2_iter.append(theta2)\n",
    "        theta3_iter.append(theta3)\n",
    "        count = count+1\n",
    "        count_iter.append(count)\n",
    "        #print(theta0, theta1, theta2)\n",
    "   \n"
   ]
  },
  {
   "cell_type": "markdown",
   "metadata": {},
   "source": [
    "# RESULTS BELOW"
   ]
  },
  {
   "cell_type": "markdown",
   "metadata": {},
   "source": [
    "### 1. Plotting training data\n",
    "* #### result"
   ]
  },
  {
   "cell_type": "code",
   "execution_count": 28,
   "metadata": {},
   "outputs": [
    {
     "data": {
      "image/png": "[encoded data removed]",
      "text/plain": [
       "<Figure size 432x288 with 1 Axes>"
      ]
     },
     "metadata": {
      "needs_background": "light"
     },
     "output_type": "display_data"
    }
   ],
   "source": [
    "plt.figure()\n",
    "plt.scatter(pointX0, pointY0, c='b')\n",
    "plt.scatter(pointX1, pointY1, c='r')\n",
    "plt.tight_layout()\n",
    "plt.gca().set_aspect('equal', adjustable='box')\n",
    "plt.show()\n"
   ]
  },
  {
   "cell_type": "markdown",
   "metadata": {},
   "source": [
    "### 2. High Dimensional function ***g***"
   ]
  },
  {
   "cell_type": "markdown",
   "metadata": {},
   "source": [
    "$$g(x,y;\\theta) = \\theta_0f_0(x,y) + \\theta_1f_1(x,y) + \\theta_1f_1(x,y) + \\theta_1f_1(x,y)$$\n",
    "$$\\updownarrow$$\n",
    "$$g(x,y;\\theta) = \\theta_01 - \\theta_1x - \\theta_1y + \\theta_1x^2y^2 $$\n",
    " "
   ]
  },
  {
   "cell_type": "markdown",
   "metadata": {},
   "source": [
    "### 3. Plotting trainig error\n",
    "\n",
    "* ####  result "
   ]
  },
  {
   "cell_type": "code",
   "execution_count": 14,
   "metadata": {},
   "outputs": [
    {
     "data": {
      "image/png": "[encoded data removed]",
      "text/plain": [
       "<Figure size 576x576 with 1 Axes>"
      ]
     },
     "metadata": {
      "needs_background": "light"
     },
     "output_type": "display_data"
    }
   ],
   "source": [
    "plt.figure(figsize=(8, 8))\n",
    "plt.plot(loss_count, loss_iter,  color='b' )\n",
    "plt.show()"
   ]
  },
  {
   "cell_type": "markdown",
   "metadata": {},
   "source": [
    "### 4. Plotting training accuracy\n",
    "* #### result"
   ]
  },
  {
   "cell_type": "code",
   "execution_count": 20,
   "metadata": {},
   "outputs": [
    {
     "data": {
      "image/png": "[encoded data removed]",
      "text/plain": [
       "<Figure size 432x432 with 1 Axes>"
      ]
     },
     "metadata": {
      "needs_background": "light"
     },
     "output_type": "display_data"
    }
   ],
   "source": [
    "plt.figure(figsize=(6, 6))\n",
    "plt.plot(count_iter, score_list,  color='red')\n",
    "plt.show()"
   ]
  },
  {
   "cell_type": "markdown",
   "metadata": {},
   "source": [
    "### 5. Final training accuracy\n",
    "* #### result"
   ]
  },
  {
   "cell_type": "code",
   "execution_count": 24,
   "metadata": {},
   "outputs": [
    {
     "name": "stdout",
     "output_type": "stream",
     "text": [
      "80.50847457627118 %\n"
     ]
    }
   ],
   "source": [
    "score0 = score(x0, y0, 0, theta0, theta1, theta2, theta3)\n",
    "score1 = score(x1, y1, 1, theta0, theta1, theta2, theta3)\n",
    "print((score0+ score1)/(m)*100 , \"%\")"
   ]
  },
  {
   "cell_type": "markdown",
   "metadata": {},
   "source": [
    "### 6. Plotting the optimal classifier superimposed on the training data\n",
    "* #### result"
   ]
  },
  {
   "cell_type": "code",
   "execution_count": 29,
   "metadata": {
    "scrolled": false
   },
   "outputs": [
    {
     "data": {
      "image/png": "[encoded data removed]",
      "text/plain": [
       "<Figure size 576x576 with 2 Axes>"
      ]
     },
     "metadata": {
      "needs_background": "light"
     },
     "output_type": "display_data"
    }
   ],
   "source": [
    "tx,ty = np.meshgrid(x,y)    \n",
    "tz = np.array(z)\n",
    "plt.figure(figsize=(8, 8))\n",
    "cp = plt.contourf(tx, ty, tz, 5, alpha = 0.3)\n",
    "\n",
    "plt.colorbar(cp)\n",
    "plt.scatter(pointX0, pointY0, c='b')\n",
    "plt.scatter(pointX1, pointY1, c='r')\n",
    "plt.show()\n"
   ]
  }
 ],
 "metadata": {
  "kernelspec": {
   "display_name": "Python 3",
   "language": "python",
   "name": "python3"
  },
  "language_info": {
   "codemirror_mode": {
    "name": "ipython",
    "version": 3
   },
   "file_extension": ".py",
   "mimetype": "text/x-python",
   "name": "python",
   "nbconvert_exporter": "python",
   "pygments_lexer": "ipython3",
   "version": "3.7.4"
  }
 },
 "nbformat": 4,
 "nbformat_minor": 2
}
