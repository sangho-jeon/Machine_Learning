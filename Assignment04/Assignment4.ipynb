{
 "cells": [
  {
   "cell_type": "code",
   "execution_count": 1,
   "metadata": {},
   "outputs": [],
   "source": [
    "import csv\n",
    "import numpy as np\n",
    "import matplotlib.pyplot as plt\n",
    "\n",
    "x_train = []\n",
    "y_train = []\n",
    "z_train = []\n",
    "h_train = []\n",
    "x_test = []\n",
    "y_test = []\n",
    "z_test = []\n",
    "h_test = []\n",
    "\n",
    "\n",
    "with open('data_train.csv', newline='') as myfile:\n",
    "    reader  = csv.reader(myfile, delimiter=',')\n",
    "    ct = 1 \n",
    "    for i in reader:\n",
    "        #print('[', ct, ']', 'x =', i[0], ', y = ', i[1], ', z = ', i[2], ', h = ', i[3])\n",
    "        x_train.append(i[0])\n",
    "        y_train.append(i[1])\n",
    "        z_train.append(i[2])\n",
    "        h_train.append(i[3])\n",
    "        ct += 1\n",
    "x_train = np.array(x_train, dtype=np.float64)\n",
    "y_train = np.array(y_train, dtype=np.float64)\n",
    "z_train = np.array(z_train, dtype=np.float64)\n",
    "h_train = np.array(h_train, dtype=np.float64)\n",
    "\n",
    "with open('data_test.csv', newline='') as myfile:\n",
    "    reader  = csv.reader(myfile, delimiter=',')\n",
    "    ct = 1 \n",
    "    for i in reader:\n",
    "        x_test.append(i[0])\n",
    "        y_test.append(i[1])\n",
    "        z_test.append(i[2])\n",
    "        h_test.append(i[3])\n",
    "        #print('[', ct, ']', 'x =', i[0], ', y = ', i[1], ', z = ', i[2], ', h = ', i[3])\n",
    "        ct += 1\n",
    "\n",
    "x_test = np.array(x_test, dtype=np.float64)\n",
    "y_test = np.array(y_test, dtype=np.float64)\n",
    "z_test = np.array(z_test, dtype=np.float64)\n",
    "h_test = np.array(h_test, dtype=np.float64)\n"
   ]
  },
  {
   "cell_type": "code",
   "execution_count": 2,
   "metadata": {},
   "outputs": [],
   "source": [
    "def Obj_f(theta0,theta1,theta2,theta3, x, y, z, h, m):\n",
    "    total_arr = theta0 + theta1*x + theta2*y + theta3*z - h\n",
    "    total_arr = total_arr*total_arr\n",
    "    tmp = np.sum(total_arr)\n",
    "    return tmp/(2.0*m)\n",
    "\n",
    "\n",
    "def gradient_theta0(theta0,theta1,theta2,theta3, x, y, z, h):\n",
    "    fx = theta0 + theta1*x + theta2*y + theta3*z - h\n",
    "    total = np.sum(fx)\n",
    "    return total\n",
    "    \n",
    "    \n",
    "\n",
    "def gradient_theta1(theta0,theta1,theta2,theta3, x, y, z, h):\n",
    "    fx = (theta0 + theta1*x + theta2*y + theta3*z - h)*x\n",
    "    total = np.sum(fx)\n",
    "    return total\n",
    "    \n",
    "    \n",
    "\n",
    "def gradient_theta2(theta0,theta1,theta2,theta3, x, y, z, h):\n",
    "    fx = (theta0 + theta1*x + theta2*y + theta3*z - h)*y\n",
    "    total = np.sum(fx)\n",
    "    return total\n",
    "    \n",
    "    \n",
    "def gradient_theta3(theta0,theta1,theta2,theta3, x, y, z, h):\n",
    "    fx = (theta0 + theta1*x + theta2*y + theta3*z - h)*z\n",
    "    total = np.sum(fx)\n",
    "    return total\n",
    "    "
   ]
  },
  {
   "cell_type": "code",
   "execution_count": 3,
   "metadata": {},
   "outputs": [],
   "source": [
    "\n",
    "step = 0.00001\n",
    "theta0 = 1\n",
    "theta1 = 1\n",
    "theta2 = 1\n",
    "theta3 = 1\n",
    "m = x_train.size\n",
    "theta0_list = []\n",
    "theta1_list = []\n",
    "theta2_list = []\n",
    "theta3_list = []\n",
    "loss_count = []\n",
    "loss_amount = []\n",
    "enough = False\n",
    "threshold = 104\n",
    "loss=0\n",
    "count = 0\n",
    "while(enough == False):\n",
    "    \n",
    "    theta0_list.append(theta0)\n",
    "    theta1_list.append(theta1)\n",
    "    theta2_list.append(theta2)\n",
    "    theta3_list.append(theta3)\n",
    "    loss_count.append(count)\n",
    "    loss = Obj_f(theta0,theta1,theta2,theta3, x_train, y_train, z_train, h_train, m)\n",
    "    loss_amount.append(loss)\n",
    "    if(loss < threshold):\n",
    "        enough = True\n",
    "    else:\n",
    "        count = count + 1\n",
    "        theta0 = theta0 - step*gradient_theta0(theta0,theta1,theta2,theta3, x_train, y_train, z_train, h_train)/m\n",
    "        theta1 = theta1 - step*gradient_theta1(theta0,theta1,theta2,theta3, x_train, y_train, z_train, h_train)/m\n",
    "        theta2 = theta2 - step*gradient_theta2(theta0,theta1,theta2,theta3, x_train, y_train, z_train, h_train)/m\n",
    "        theta3 = theta3 - step*gradient_theta3(theta0,theta1,theta2,theta3, x_train, y_train, z_train, h_train)/m\n",
    "        \n",
    "\n"
   ]
  },
  {
   "cell_type": "code",
   "execution_count": 4,
   "metadata": {},
   "outputs": [
    {
     "data": {
      "image/png": "[encoded data removed]",
      "text/plain": [
       "<Figure size 432x288 with 1 Axes>"
      ]
     },
     "metadata": {
      "needs_background": "light"
     },
     "output_type": "display_data"
    }
   ],
   "source": [
    "plt.scatter(loss_count, theta0_list, c='black')\n",
    "plt.scatter(loss_count, theta1_list, c='red')\n",
    "plt.scatter(loss_count, theta2_list, c='green')\n",
    "plt.scatter(loss_count, theta3_list, c='blue')\n",
    "plt.axis([0,10000,-3, 5])\n",
    "plt.show()"
   ]
  },
  {
   "cell_type": "code",
   "execution_count": 5,
   "metadata": {},
   "outputs": [
    {
     "data": {
      "image/png": "[encoded data removed]",
      "text/plain": [
       "<Figure size 432x288 with 1 Axes>"
      ]
     },
     "metadata": {
      "needs_background": "light"
     },
     "output_type": "display_data"
    }
   ],
   "source": [
    "plt.scatter(loss_count, loss_amount, c='blue')\n",
    "plt.axis([0,10000, 0,800])\n",
    "plt.show()"
   ]
  },
  {
   "cell_type": "code",
   "execution_count": 6,
   "metadata": {},
   "outputs": [],
   "source": [
    "\n",
    "step = 0.00001\n",
    "theta0 = 1\n",
    "theta1 = 1\n",
    "theta2 = 1\n",
    "theta3 = 1\n",
    "m = x_test.size\n",
    "theta0_list = []\n",
    "theta1_list = []\n",
    "theta2_list = []\n",
    "theta3_list = []\n",
    "loss_count = []\n",
    "losst_amount = []\n",
    "enough = False\n",
    "threshold = 50\n",
    "loss=0\n",
    "count = 0\n",
    "while(enough == False):\n",
    "    \n",
    "    theta0_list.append(theta0)\n",
    "    theta1_list.append(theta1)\n",
    "    theta2_list.append(theta2)\n",
    "    theta3_list.append(theta3)\n",
    "    loss_count.append(count)\n",
    "    loss = Obj_f(theta0,theta1,theta2,theta3, x_test, y_test, z_test, h_test, m)\n",
    "    losst_amount.append(loss)\n",
    "    if(loss < threshold):\n",
    "        enough = True\n",
    "    else:\n",
    "        count = count + 1\n",
    "        theta0 = theta0 - step*gradient_theta0(theta0,theta1,theta2,theta3, x_test, y_test, z_test, h_test)/m\n",
    "        theta1 = theta1 - step*gradient_theta1(theta0,theta1,theta2,theta3, x_test, y_test, z_test, h_test)/m\n",
    "        theta2 = theta2 - step*gradient_theta2(theta0,theta1,theta2,theta3, x_test, y_test, z_test, h_test)/m\n",
    "        theta3 = theta3 - step*gradient_theta3(theta0,theta1,theta2,theta3, x_test, y_test, z_test, h_test)/m\n",
    "        \n"
   ]
  },
  {
   "cell_type": "code",
   "execution_count": 7,
   "metadata": {},
   "outputs": [
    {
     "data": {
      "image/png": "[encoded data removed]",
      "text/plain": [
       "<Figure size 432x288 with 1 Axes>"
      ]
     },
     "metadata": {
      "needs_background": "light"
     },
     "output_type": "display_data"
    }
   ],
   "source": [
    "plt.scatter(loss_count, losst_amount, c='red')\n",
    "plt.axis([0,1200, 0,800])\n",
    "plt.show()"
   ]
  },
  {
   "cell_type": "code",
   "execution_count": null,
   "metadata": {},
   "outputs": [],
   "source": []
  }
 ],
 "metadata": {
  "kernelspec": {
   "display_name": "Python 3",
   "language": "python",
   "name": "python3"
  },
  "language_info": {
   "codemirror_mode": {
    "name": "ipython",
    "version": 3
   },
   "file_extension": ".py",
   "mimetype": "text/x-python",
   "name": "python",
   "nbconvert_exporter": "python",
   "pygments_lexer": "ipython3",
   "version": "3.7.4"
  }
 },
 "nbformat": 4,
 "nbformat_minor": 2
}
