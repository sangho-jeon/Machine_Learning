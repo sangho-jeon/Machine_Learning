{
 "cells": [
  {
   "cell_type": "code",
   "execution_count": 96,
   "metadata": {},
   "outputs": [],
   "source": [
    "import matplotlib.pyplot as plt\n",
    "import numpy as np\n",
    "import re\n",
    "import nltk\n",
    "from sklearn.datasets import load_files\n",
    "# nltk.download('stopwords')\n",
    "# nltk.download('wordnet')\n",
    "import pickle\n",
    "from nltk.corpus import stopwords\n",
    "from nltk.stem import WordNetLemmatizer\n",
    "from sklearn.feature_extraction.text import CountVectorizer\n",
    "from sklearn.feature_extraction.text import TfidfTransformer\n",
    "from sklearn.model_selection import train_test_split\n",
    "from sklearn.metrics import classification_report, confusion_matrix, accuracy_score\n",
    "\n",
    "review_data = load_files(r\"movie_review\")\n",
    "X, y = review_data.data, review_data.target\n",
    "\n",
    "documents = []\n",
    "\n",
    "stemmer = WordNetLemmatizer()\n",
    "\n",
    "for sen in range(0, len(X)):\n",
    "    # Remove all the special characters\n",
    "    document = re.sub(r'\\W', ' ', str(X[sen]))\n",
    "\n",
    "    # remove all single characters\n",
    "    document = re.sub(r'\\s+[a-zA-Z]\\s+', ' ', document)\n",
    "    \n",
    "    # Remove single characters from the start\n",
    "    document = re.sub(r'\\^[a-zA-Z]\\s+', ' ', document) \n",
    "    \n",
    "    # Substituting multiple spaces with single space\n",
    "    document = re.sub(r'\\s+', ' ', document, flags=re.I)\n",
    "    \n",
    "    # Removing prefixed 'b'\n",
    "    document = re.sub(r'^b\\s+', '', document)\n",
    "    \n",
    "    # Converting to Lowercase\n",
    "    document = document.lower()\n",
    "    \n",
    "    # Lemmatization\n",
    "    document = document.split()\n",
    "    document = [stemmer.lemmatize(word) for word in document]\n",
    "    document = ' '.join(document)\n",
    "    \n",
    "    documents.append(document)\n",
    "\n",
    "vectorizer = CountVectorizer(max_features=1500, min_df=5, max_df=0.7, stop_words=stopwords.words('english'))\n",
    "X = vectorizer.fit_transform(documents).toarray()\n",
    "\n",
    "tfidfconverter = TfidfTransformer()\n",
    "X = tfidfconverter.fit_transform(X).toarray()\n",
    "\n",
    "X_train, X_test, y_train, y_test = train_test_split(X, y, test_size=0.3, shuffle=False)\n",
    "X_train = X_train.T\n",
    "X_test = X_test.T\n"
   ]
  },
  {
   "cell_type": "code",
   "execution_count": 85,
   "metadata": {},
   "outputs": [],
   "source": [
    "def sigmoid(z):\n",
    "    return 1/(1 + np.exp(-1*z))\n",
    "\n",
    "# derivation of sigmoid\n",
    "def dsigmoid(z):\n",
    "    t = sigmoid(z)\n",
    "    return t*(1-t)\n",
    "\n",
    "def classification(x, u, v, w, b_u, b_v, b_w):\n",
    "    y_ = np.dot(u, x) + b_u\n",
    "    y = sigmoid(y_)\n",
    "    z_ = np.dot(v, y) + b_v\n",
    "    z = sigmoid(z_)\n",
    "    h_ = np.dot(w, z) + b_w\n",
    "    h = sigmoid(h_)\n",
    "    \n",
    "    return y_, y, z_, z, h_, h\n",
    "\n",
    "    \n",
    "def j(h, label, m):\n",
    "    tmp = (-1*label*np.log(h)) - ((1-label)*np.log(1-h))\n",
    "    total = np.sum(tmp)\n",
    "    return total/m\n",
    "\n",
    "def dsigmoid(z):\n",
    "    t = sigmoid(z)\n",
    "    return t*(1-t)\n",
    "\n",
    "\n",
    "def descending(x_, y_, y, z_, z, h_, h , u, v, w, label):\n",
    "    dj_dh = (-1*label/(h)) + ((1-label)/(1-h)) \n",
    "    dh_dh = dsigmoid(h_)\n",
    "    dh_dw = z\n",
    "    tmp0 = dj_dh * dh_dh\n",
    "    dw = np.dot(tmp0, dh_dw.T)\n",
    "    db_w = np.sum(dw, axis=1)\n",
    "    \n",
    "    tmp1 = np.dot(w.T, tmp0)\n",
    "    tmp2 = tmp1 * dsigmoid(z_)\n",
    "    dv = np.dot(tmp2, y.T)\n",
    "    db_v = np.sum(dv, axis = 1)\n",
    "    \n",
    "    tmp3= np.dot(v.T, tmp2)\n",
    "    tmp4 = tmp3 * dsigmoid(y_)\n",
    "    du = np.dot(tmp4, x_.T)\n",
    "    db_u = np.sum(du, axis=1)\n",
    "    \n",
    "    return dw, dv, du, db_w, db_v, db_u\n",
    "\n",
    "def casting(y):\n",
    "    result = []\n",
    "    for i in y[:][0]:\n",
    "        if i>=0.5:\n",
    "            result.append(1)\n",
    "        else:\n",
    "            result.append(0)\n",
    "    return result\n"
   ]
  },
  {
   "cell_type": "code",
   "execution_count": 131,
   "metadata": {},
   "outputs": [],
   "source": [
    "train_m = 1401\n",
    "test_m = 601\n",
    "\n",
    "lamb = 10.0\n",
    "step = 0.00003\n",
    "\n",
    "# weight\n",
    "u = np.random.randn(250, 1500)\n",
    "v = np.random.randn(105, 250)\n",
    "w = np.random.randn(1, 105)\n",
    "\n",
    "train_loss_list = []\n",
    "test_loss_list = []\n",
    "count_iter = []\n",
    "train_accuracy = []\n",
    "test_accuracy = []\n",
    "# bias\n",
    "b_u = np.random.randn(250,1)\n",
    "b_v = np.random.randn(105,1)\n",
    "b_w = np.random.randn(1,1)\n",
    "enough = False\n",
    "count = 0\n",
    "while enough == False:\n",
    "    \n",
    "    y_, y, z_, z, h_, y_pred_train = classification(X_train, u, v, w, b_u, b_v, b_w)\n",
    "    f_y_, f_y, f_z_, f_z, f_h_, y_pred_test = classification(X_test, u, v, w, b_u, b_v, b_w)\n",
    "    train_loss  = j(y_pred_train, y_train, train_m)\n",
    "    test_loss = j(y_pred_test, y_test, test_m)\n",
    "    train_loss_list.append(train_loss)\n",
    "    test_loss_list.append(test_loss)\n",
    "    count_iter.append(count)\n",
    "    \n",
    "    dw, dv, du, db_w, db_v, db_u = descending(X_train, y_, y, z_, z, h_, y_pred_train , u, v, w, y_train)\n",
    "    \n",
    "    \n",
    "    w = w*(1-(step*lamb)/train_m) - step*dw\n",
    "    v = v*(1-(step*lamb)/train_m) - step*dv\n",
    "    u = u*(1-(step*lamb)/train_m) - step*du\n",
    "        \n",
    "    b_w = b_w*(1-(step*lamb)/train_m) - step*db_w[:,None]\n",
    "    b_v = b_v*(1-(step*lamb)/train_m) - step*db_v[:,None]\n",
    "    b_u = b_u*(1-(step*lamb)/train_m) - step*db_u[:,None]\n",
    "    \n",
    "    ac_y_train = casting(y_pred_train)\n",
    "    ac_y_test = casting(y_pred_test)\n",
    "    train_accuracy.append(accuracy_score(y_train, ac_y_train))\n",
    "    test_accuracy.append(accuracy_score(y_test,ac_y_test))\n",
    "\n",
    "    count += 1\n",
    "#     print(confusion_matrix(y_train,ac_y_train))\n",
    "#     print(classification_report(y_train,ac_y_train))\n",
    "#     print(accuracy_score(y_train, ac_y_train))\n",
    "    if count >= 5000 :\n",
    "        enough = True\n",
    "\n",
    "\n"
   ]
  },
  {
   "cell_type": "code",
   "execution_count": 132,
   "metadata": {},
   "outputs": [
    {
     "data": {
      "image/png": "[encoded data removed]",
      "text/plain": [
       "<Figure size 576x576 with 1 Axes>"
      ]
     },
     "metadata": {
      "needs_background": "light"
     },
     "output_type": "display_data"
    }
   ],
   "source": [
    "plt.figure(figsize=(8, 8))\n",
    "plt.plot(count_iter, train_loss_list,  color='b' )\n",
    "plt.plot(count_iter, test_loss_list,  color='r' )\n",
    "plt.show()"
   ]
  },
  {
   "cell_type": "code",
   "execution_count": 133,
   "metadata": {},
   "outputs": [
    {
     "data": {
      "image/png": "[encoded data removed]",
      "text/plain": [
       "<Figure size 576x576 with 1 Axes>"
      ]
     },
     "metadata": {
      "needs_background": "light"
     },
     "output_type": "display_data"
    },
    {
     "name": "stdout",
     "output_type": "stream",
     "text": [
      "66.05657237936772\n"
     ]
    }
   ],
   "source": [
    "ac_train = np.array(train_accuracy)*100\n",
    "ac_test = np.array(test_accuracy)*100\n",
    "\n",
    "plt.figure(figsize=(8, 8))\n",
    "plt.plot(count_iter, ac_train,  color='b' )\n",
    "plt.plot(count_iter, ac_test,  color='r' )\n",
    "plt.show()\n",
    "print(ac_test[-1])"
   ]
  }
 ],
 "metadata": {
  "kernelspec": {
   "display_name": "Python 3",
   "language": "python",
   "name": "python3"
  },
  "language_info": {
   "codemirror_mode": {
    "name": "ipython",
    "version": 3
   },
   "file_extension": ".py",
   "mimetype": "text/x-python",
   "name": "python",
   "nbconvert_exporter": "python",
   "pygments_lexer": "ipython3",
   "version": "3.7.4"
  }
 },
 "nbformat": 4,
 "nbformat_minor": 2
}
