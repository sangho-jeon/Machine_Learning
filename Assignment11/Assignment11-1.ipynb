{
  "nbformat": 4,
  "nbformat_minor": 0,
  "metadata": {
    "colab": {
      "name": "Assignment11.ipynb",
      "provenance": [],
      "collapsed_sections": []
    },
    "kernelspec": {
      "name": "python3",
      "display_name": "Python 3"
    }
  },
  "cells": [
    {
      "cell_type": "code",
      "metadata": {
        "id": "a3eEdqqIEfvJ",
        "colab_type": "code",
        "outputId": "58f19e93-27cb-4c81-b5e2-a74c236ae07b",
        "colab": {
          "base_uri": "https://localhost:8080/",
          "height": 87
        }
      },
      "source": [
        "import matplotlib.pyplot as plt\n",
        "import numpy as np\n",
        "import re\n",
        "import nltk\n",
        "from sklearn.datasets import load_files\n",
        "nltk.download('stopwords')\n",
        "nltk.download('wordnet')\n",
        "import pickle\n",
        "from nltk.corpus import stopwords \n",
        "from nltk.stem import WordNetLemmatizer\n",
        "from sklearn.feature_extraction.text import CountVectorizer\n",
        "from sklearn.feature_extraction.text import TfidfTransformer\n",
        "from sklearn.model_selection import train_test_split\n",
        "from sklearn.metrics import classification_report, confusion_matrix, accuracy_score\n",
        "\n",
        "review_data = load_files(r\"/content/drive/My Drive/assignment11/movie_review\")\n",
        "X, y = review_data.data, review_data.target\n",
        "\n",
        "documents = []\n",
        "\n",
        "stemmer = WordNetLemmatizer()\n",
        "\n",
        "for sen in range(0, len(X)):\n",
        "    # Remove all the special characters\n",
        "    document = re.sub(r'\\W', ' ', str(X[sen]))\n",
        "    \n",
        "    # remove all single characters\n",
        "    document = re.sub(r'\\s+[a-zA-Z]\\s+', ' ', document)\n",
        "    \n",
        "    # Remove single characters from the start\n",
        "    document = re.sub(r'\\^[a-zA-Z]\\s+', ' ', document) \n",
        "\n",
        "    # Substituting multiple spaces with single space\n",
        "    document = re.sub(r'\\s+', ' ', document, flags=re.I)  \n",
        "    \n",
        "    # Removing prefixed 'b'\n",
        "    document = re.sub(r'^b\\s+', '', document)\n",
        "    \n",
        "    # Converting to Lowercase\n",
        "    document = document.lower()\n",
        "    \n",
        "    # Lemmatization\n",
        "    document = document.split()\n",
        "    document = [stemmer.lemmatize(word) for word in document]\n",
        "    document = ' '.join(document)\n",
        "    \n",
        "    documents.append(document)\n",
        "\n",
        "vectorizer = CountVectorizer(max_features=1500, min_df=5, max_df=0.7, stop_words=stopwords.words('english'))\n",
        "X = vectorizer.fit_transform(documents).toarray()\n",
        "\n",
        "tfidfconverter = TfidfTransformer()\n",
        "X = tfidfconverter.fit_transform(X).toarray()\n",
        "\n",
        "X_train, X_test, y_train, y_test = train_test_split(X, y, test_size=0.3, shuffle=False)\n",
        "X_train = X_train.T\n",
        "X_test = X_test.T\n"
      ],
      "execution_count": 1,
      "outputs": [
        {
          "output_type": "stream",
          "text": [
            "[nltk_data] Downloading package stopwords to /root/nltk_data...\n",
            "[nltk_data]   Package stopwords is already up-to-date!\n",
            "[nltk_data] Downloading package wordnet to /root/nltk_data...\n",
            "[nltk_data]   Package wordnet is already up-to-date!\n"
          ],
          "name": "stdout"
        }
      ]
    },
    {
      "cell_type": "code",
      "metadata": {
        "id": "AH1sKMgDEs5a",
        "colab_type": "code",
        "outputId": "4b5fbc40-7211-48cc-e22d-c4ecf250c68d",
        "colab": {
          "base_uri": "https://localhost:8080/",
          "height": 34
        }
      },
      "source": [
        "from google.colab import drive\n",
        "drive.mount('/content/drive/')\n"
      ],
      "execution_count": 2,
      "outputs": [
        {
          "output_type": "stream",
          "text": [
            "Drive already mounted at /content/drive/; to attempt to forcibly remount, call drive.mount(\"/content/drive/\", force_remount=True).\n"
          ],
          "name": "stdout"
        }
      ]
    },
    {
      "cell_type": "code",
      "metadata": {
        "id": "B3J9UEghLDas",
        "colab_type": "code",
        "colab": {
          "base_uri": "https://localhost:8080/",
          "height": 335
        },
        "outputId": "d7eb7720-1f71-45d4-9a8b-b2d9bdb998a1"
      },
      "source": [
        "!pip install --force https://github.com/chengs/tqdm/archive/colab.zip\n",
        "from tqdm import tqdm_notebook"
      ],
      "execution_count": 3,
      "outputs": [
        {
          "output_type": "stream",
          "text": [
            "Collecting https://github.com/chengs/tqdm/archive/colab.zip\n",
            "  Using cached https://github.com/chengs/tqdm/archive/colab.zip\n",
            "Building wheels for collected packages: tqdm\n",
            "  Building wheel for tqdm (setup.py) ... \u001b[?25l\u001b[?25hdone\n",
            "  Created wheel for tqdm: filename=tqdm-4.28.1-py2.py3-none-any.whl size=47867 sha256=c31a934a7edffca728f90293716b9909bf7b7f6e4b17c04635670120e5829095\n",
            "  Stored in directory: /tmp/pip-ephem-wheel-cache-ie7ookhi/wheels/41/18/ee/d5dd158441b27965855b1bbae03fa2d8a91fe645c01b419896\n",
            "Successfully built tqdm\n",
            "\u001b[31mERROR: spacy 2.2.4 has requirement tqdm<5.0.0,>=4.38.0, but you'll have tqdm 4.28.1 which is incompatible.\u001b[0m\n",
            "Installing collected packages: tqdm\n",
            "  Found existing installation: tqdm 4.28.1\n",
            "    Uninstalling tqdm-4.28.1:\n",
            "      Successfully uninstalled tqdm-4.28.1\n",
            "Successfully installed tqdm-4.28.1\n"
          ],
          "name": "stdout"
        },
        {
          "output_type": "display_data",
          "data": {
            "application/vnd.colab-display-data+json": {
              "pip_warning": {
                "packages": [
                  "tqdm"
                ]
              }
            }
          },
          "metadata": {
            "tags": []
          }
        }
      ]
    },
    {
      "cell_type": "code",
      "metadata": {
        "id": "EQATSM7dGo46",
        "colab_type": "code",
        "colab": {}
      },
      "source": [
        "def sigmoid(z):\n",
        "    return 1/(1 + np.exp(-1*z))\n",
        "\n",
        "# derivation of sigmoid\n",
        "def dsigmoid(z):\n",
        "    t = sigmoid(z)\n",
        "    return t*(1-t)\n",
        "\n",
        "def classification(x, u, v, w, b_u, b_v, b_w):\n",
        "    y_ = np.dot(u, x) + b_u\n",
        "    y = sigmoid(y_)\n",
        "    z_ = np.dot(v, y) + b_v\n",
        "    z = sigmoid(z_)\n",
        "    h_ = np.dot(w, z) + b_w\n",
        "    h = sigmoid(h_)\n",
        "    \n",
        "    return y_, y, z_, z, h_, h\n",
        "  \n",
        "    \n",
        "def j(h, label, m):\n",
        "    tmp = (-1*label*np.log(h)) - ((1-label)*np.log(1-h))\n",
        "    total = np.sum(tmp)\n",
        "    return total/m\n",
        "\n",
        "def dsigmoid(z):\n",
        "    t = sigmoid(z)\n",
        "    return t*(1-t)\n",
        "\n",
        "\n",
        "def descending(x_, y_, y, z_, z, h_, h , u, v, w, label):\n",
        "    dj_dh = (-1*label/(h)) + ((1-label)/(1-h)) \n",
        "    dh_dh = dsigmoid(h_)\n",
        "    dh_dw = z\n",
        "    tmp0 = dj_dh * dh_dh\n",
        "    dw = np.dot(tmp0, dh_dw.T)\n",
        "    db_w = np.sum(dw, axis=1)\n",
        "    \n",
        "    tmp1 = np.dot(w.T, tmp0)\n",
        "    tmp2 = tmp1 * dsigmoid(z_)\n",
        "    dv = np.dot(tmp2, y.T)\n",
        "    db_v = np.sum(dv, axis = 1)\n",
        "    \n",
        "    tmp3= np.dot(v.T, tmp2)\n",
        "    tmp4 = tmp3 * dsigmoid(y_)\n",
        "    du = np.dot(tmp4, x_.T)\n",
        "    db_u = np.sum(du, axis=1)\n",
        "    \n",
        "    return dw, dv, du, db_w, db_v, db_u\n",
        "\n",
        "def casting(y):\n",
        "    result = []\n",
        "    for i in y[:][0]:\n",
        "        if i>=0.5:\n",
        "            result.append(1)\n",
        "        else:\n",
        "            result.append(0)\n",
        "    return result\n"
      ],
      "execution_count": 0,
      "outputs": []
    },
    {
      "cell_type": "code",
      "metadata": {
        "id": "0h-0u7ZBGova",
        "colab_type": "code",
        "colab": {
          "base_uri": "https://localhost:8080/",
          "height": 108
        },
        "outputId": "f452fd5c-6786-4b19-c5ba-f6edaf4acde4"
      },
      "source": [
        "\n",
        "train_m = 1401\n",
        "test_m = 601\n",
        "\n",
        "lamb = 1.1\n",
        "step = 0.00005\n",
        "\n",
        "# # weight\n",
        "u = np.random.randn(255, 1500)\n",
        "v = np.random.randn(64, 255)\n",
        "w = np.random.randn(1, 64)\n",
        "\n",
        "# u = np.random.normal(0, 0.1, (255, 1500))\n",
        "# v = np.random.normal(0, 0.1, (64, 255))\n",
        "# w = np.random.normal(0, 0.1, (1, 64))\n",
        "\n",
        "train_loss_list = []\n",
        "test_loss_list = []\n",
        "count_iter = []\n",
        "train_accuracy = []\n",
        "test_accuracy = []  \n",
        "# # bias\n",
        "# b_u = np.random.randn(155,1)\n",
        "# b_v = np.random.randn(34,1)\n",
        "# b_w = np.random.randn(1,1)\n",
        "b_u = np.random.normal(0, 0.1, (255,1))\n",
        "b_v = np.random.normal(0, 0.1, (64,1))\n",
        "b_w = np.random.normal(0, 0.1, (1,1))\n",
        "\n",
        "total_param = 255 + 64 + 1\n",
        "enough = False\n",
        "count = 0\n",
        "\n",
        "for a in tqdm_notebook(range(10000),desc = 'count'):\n",
        "    \n",
        "    y_, y, z_, z, h_, y_pred_train = classification(X_train, u, v, w, b_u, b_v, b_w)  \n",
        "    f_y_, f_y, f_z_, f_z, f_h_, y_pred_test = classification(X_test, u, v, w, b_u, b_v, b_w)\n",
        "    train_loss  = j(y_pred_train, y_train, train_m)\n",
        "    test_loss = j(y_pred_test, y_test, test_m)\n",
        "    train_loss_list.append(train_loss)\n",
        "    test_loss_list.append(test_loss)\n",
        "    count_iter.append(count)\n",
        "    \n",
        "    dw, dv, du, db_w, db_v, db_u = descending(X_train, y_, y, z_, z, h_, y_pred_train , u, v, w, y_train)\n",
        "    \n",
        "    \n",
        "    w = w*(1-(step*lamb)/total_param) - step*dw\n",
        "    v = v*(1-(step*lamb)/total_param) - step*dv\n",
        "    u = u*(1-(step*lamb)/total_param) - step*du\n",
        "        \n",
        "    b_w = b_w*(1-(step*lamb)/total_param) - step*db_w[:,None]\n",
        "    b_v = b_v*(1-(step*lamb)/total_param) - step*db_v[:,None]\n",
        "    b_u = b_u*(1-(step*lamb)/total_param) - step*db_u[:,None]\n",
        "    \n",
        "    ac_y_train = casting(y_pred_train)\n",
        "    ac_y_test = casting(y_pred_test)\n",
        "    train_accuracy.append(accuracy_score(y_train, ac_y_train))\n",
        "    test_accuracy.append(accuracy_score(y_test,ac_y_test))\n",
        "\n",
        "    count += 1\n",
        "#     print(confusion_matrix(y_train,ac_y_train))\n",
        "#     print(classification_report(y_train,ac_y_train))  \n",
        "#     print(accuracy_score(y_train, ac_y_train))\n",
        "    # if count >= 20000 :\n",
        "    #     enough = True\n",
        "\n",
        "\n"
      ],
      "execution_count": 5,
      "outputs": [
        {
          "output_type": "stream",
          "text": [
            "/usr/local/lib/python3.6/dist-packages/tqdm/_tqdm_notebook.py:88: TqdmExperimentalWarning: Detect Google Colab 0.0.1a2 and thus load dummy ipywidgets package. Note that UI is different from that in Jupyter. See https://github.com/tqdm/tqdm/pull/640\n",
            "  \" See https://github.com/tqdm/tqdm/pull/640\".format(colab.__version__), TqdmExperimentalWarning)\n"
          ],
          "name": "stderr"
        },
        {
          "output_type": "display_data",
          "data": {
            "text/html": [
              "<div style=\"display:flex;flex-direction:row;\"><span>count</span><progress style='margin:2px 4px;description_width:initial;' max='10000' value='10000'></progress>100% 10000/10000 [26:11&lt;00:00,  6.48it/s]</div>"
            ],
            "text/plain": [
              "<tqdm._fake_ipywidgets.HBox object>"
            ]
          },
          "metadata": {
            "tags": []
          }
        },
        {
          "output_type": "stream",
          "text": [
            "\n"
          ],
          "name": "stdout"
        }
      ]
    },
    {
      "cell_type": "code",
      "metadata": {
        "id": "deEJbbpGGois",
        "colab_type": "code",
        "colab": {
          "base_uri": "https://localhost:8080/",
          "height": 483
        },
        "outputId": "bdaa9e8d-537a-4ce4-8de5-7e2ebae3da28"
      },
      "source": [
        "plt.figure(figsize=(8, 8))\n",
        "plt.plot(count_iter, train_loss_list,  color='b' )\n",
        "plt.plot(count_iter, test_loss_list,  color='r' )\n",
        "plt.show()"
      ],
      "execution_count": 8,
      "outputs": [
        {
          "output_type": "display_data",
          "data": {
            "image/png": "[encoded data removed]",
            "text/plain": [
              "<Figure size 576x576 with 1 Axes>"
            ]
          },
          "metadata": {
            "tags": [],
            "needs_background": "light"
          }
        }
      ]
    },
    {
      "cell_type": "code",
      "metadata": {
        "id": "ycoN24CgGoIg",
        "colab_type": "code",
        "colab": {
          "base_uri": "https://localhost:8080/",
          "height": 518
        },
        "outputId": "cb571b9f-96e3-4317-db58-a15413d99393"
      },
      "source": [
        "ac_train = np.array(train_accuracy)*100\n",
        "ac_test = np.array(test_accuracy)*100\n",
        "\n",
        "plt.figure(figsize=(8, 8))\n",
        "plt.plot(count_iter, ac_train,  color='b' ) \n",
        "plt.plot(count_iter, ac_test,  color='r' )\n",
        "plt.show()\n",
        "print(ac_test[-1])\n",
        "print(ac_train[-1])"
      ],
      "execution_count": 9,
      "outputs": [
        {
          "output_type": "display_data",
          "data": {
            "image/png": "[encoded data removed]",
            "text/plain": [
              "<Figure size 576x576 with 1 Axes>"
            ]
          },
          "metadata": {
            "tags": [],
            "needs_background": "light"
          }
        },
        {
          "output_type": "stream",
          "text": [
            "71.04825291181365\n",
            "99.3576017130621\n"
          ],
          "name": "stdout"
        }
      ]
    },
    {
      "cell_type": "code",
      "metadata": {
        "id": "uQS4dHE_KdKX",
        "colab_type": "code",
        "colab": {}
      },
      "source": [
        "_"
      ],
      "execution_count": 0,
      "outputs": []
    }
  ]
}