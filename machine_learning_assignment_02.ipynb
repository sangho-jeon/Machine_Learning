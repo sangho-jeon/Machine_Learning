{
 "cells": [
  {
   "cell_type": "code",
   "execution_count": 1,
   "metadata": {
    "scrolled": true
   },
   "outputs": [
    {
     "data": {
      "text/plain": [
       "<Figure size 640x480 with 1 Axes>"
      ]
     },
     "metadata": {},
     "output_type": "display_data"
    }
   ],
   "source": [
    "import matplotlib.pyplot as plt \n",
    "import numpy as np\n",
    "\n",
    "m = 100\n",
    "x = [0.0, 10.0]\n",
    "np.random.seed(0)\n",
    "scatterx = 10*np.random.sample(m)\n",
    "scattery = scatterx + np.random.normal(0,1,m)\n",
    "\n",
    "plt.plot(x, x, c='b')\n",
    "plt.scatter(scatterx, scattery ,c='black')\n",
    "plt.axis([0,10,0,10])\n",
    "plt.show()"
   ]
  },
  {
   "cell_type": "code",
   "execution_count": 2,
   "metadata": {},
   "outputs": [
    {
     "name": "stdout",
     "output_type": "stream",
     "text": [
      "1.8496249955788826\n"
     ]
    }
   ],
   "source": [
    "#initial power\n",
    "\n",
    "def objective_function(y, hx, m):\n",
    "    loss =  hx - y\n",
    "    tmp = np.sum(loss)\n",
    "    sqr = tmp*tmp \n",
    "    return sqr/(2*m)\n",
    "\n",
    "def loss_function_theta_zero(y, hx, m):\n",
    "    loss = hx - y\n",
    "    tmp = np.sum(loss)\n",
    "    return tmp/m\n",
    "\n",
    "\n",
    "    \n",
    "def loss_function_theta_one(y,hx, x, m):\n",
    "    loss = (hx - y)*x\n",
    "    tmp = np.sum(loss)\n",
    "    return tmp/m\n",
    "    \n",
    "    \n",
    "\n",
    "hx = scatterx\n",
    "\n",
    "origin = objective_function(scattery, hx, m)\n",
    "print(origin)\n",
    "#the origin objective functions loss is 1.8496249955788826"
   ]
  },
  {
   "cell_type": "code",
   "execution_count": 3,
   "metadata": {},
   "outputs": [
    {
     "name": "stdout",
     "output_type": "stream",
     "text": [
      "0.14823455946423655 0.9431322988123467\n"
     ]
    },
    {
     "data": {
      "image/png": "[encoded data removed]",
      "text/plain": [
       "<Figure size 432x288 with 1 Axes>"
      ]
     },
     "metadata": {
      "needs_background": "light"
     },
     "output_type": "display_data"
    }
   ],
   "source": [
    "#gradient descending\n",
    "\n",
    "threshold = 5\n",
    "\n",
    "#initial condition\n",
    "theta0 = 0\n",
    "theta1 = 0\n",
    "hx = scatterx*theta1 + theta0\n",
    "#step_size \n",
    "step = 0.001\n",
    "loss_list = []\n",
    "loss_count = []\n",
    "theta0_list = []\n",
    "theta1_list = []\n",
    "enough = False\n",
    "count = 0 \n",
    "while(enough == False):\n",
    "    loss = objective_function(scattery, hx, m)\n",
    "    loss_list.append(loss)\n",
    "    loss_count.append(count)\n",
    "    theta0_list.append(theta0)\n",
    "    theta1_list.append(theta1)\n",
    "    if(loss < threshold ):\n",
    "        enough = True\n",
    "    else:\n",
    "        count = count + 1\n",
    "        theta0 = theta0 - step*loss_function_theta_zero(scattery, hx, m)\n",
    "        theta1 = theta1 - step*loss_function_theta_one(scattery, hx, scatterx, m)\n",
    "        hx = scatterx*theta1 + theta0\n",
    "        \n",
    "print(theta0, theta1)\n",
    "\n",
    "plt.plot(x, x, c='b')\n",
    "plt.scatter(scatterx, scattery ,c='black')\n",
    "plt.plot([0,10],[theta0, theta1*10+theta0], c='r')\n",
    "plt.axis([0,10,0,10])\n",
    "plt.show()"
   ]
  },
  {
   "cell_type": "code",
   "execution_count": 4,
   "metadata": {},
   "outputs": [
    {
     "data": {
      "image/png": "[encoded data removed]",
      "text/plain": [
       "<Figure size 432x288 with 1 Axes>"
      ]
     },
     "metadata": {
      "needs_background": "light"
     },
     "output_type": "display_data"
    }
   ],
   "source": [
    "#plotting energy value\n",
    "plt.scatter(loss_count, loss_list, c='blue')\n",
    "plt.axis([0,100,0,100])\n",
    "plt.show()"
   ]
  },
  {
   "cell_type": "code",
   "execution_count": 20,
   "metadata": {},
   "outputs": [
    {
     "name": "stderr",
     "output_type": "stream",
     "text": [
      "'c' argument looks like a single numeric RGB or RGBA sequence, which should be avoided as value-mapping will have precedence in case its length matches with 'x' & 'y'.  Please use a 2-D array with a single row if you really want to specify the same RGB or RGBA value for all points.\n"
     ]
    },
    {
     "data": {
      "image/png": "[encoded data removed]",
      "text/plain": [
       "<Figure size 432x288 with 1 Axes>"
      ]
     },
     "metadata": {
      "needs_background": "light"
     },
     "output_type": "display_data"
    }
   ],
   "source": [
    "#plotting model parameters\n",
    "\n",
    "plt.scatter(loss_count, theta0_list, c='red')\n",
    "plt.scatter(loss_count, theta1_list, c = (0, 0, 1))\n",
    "plt.axis([0,100,0,1])\n",
    "plt.show()"
   ]
  },
  {
   "cell_type": "code",
   "execution_count": null,
   "metadata": {},
   "outputs": [],
   "source": []
  }
 ],
 "metadata": {
  "kernelspec": {
   "display_name": "Python 3",
   "language": "python",
   "name": "python3"
  },
  "language_info": {
   "codemirror_mode": {
    "name": "ipython",
    "version": 3
   },
   "file_extension": ".py",
   "mimetype": "text/x-python",
   "name": "python",
   "nbconvert_exporter": "python",
   "pygments_lexer": "ipython3",
   "version": "3.7.4"
  }
 },
 "nbformat": 4,
 "nbformat_minor": 2
}
